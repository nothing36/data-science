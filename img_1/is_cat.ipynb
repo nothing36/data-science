{
 "cells": [
  {
   "cell_type": "markdown",
   "id": "86695107",
   "metadata": {},
   "source": [
    "# Is this a cat or a keyboard?\n",
    "\n",
    "Run the below in the venv to make sure everything is installed beforehand\n",
    "\n",
    "`pip install -Uqq fastai 'duckduckgo_search>=6.2'`\n",
    "\n",
    "`pip install -U fastcore`\n",
    "\n",
    "## Setup"
   ]
  },
  {
   "cell_type": "code",
   "execution_count": null,
   "id": "aedee63d",
   "metadata": {},
   "outputs": [],
   "source": [
    "import socket,warnings\n",
    "import os\n",
    "import time, json\n",
    "from duckduckgo_search import DDGS\n",
    "from fastcore.all import *\n",
    "from fastdownload import download_url\n",
    "from fastai.callback.tracker import EarlyStoppingCallback\n",
    "from fastai.vision.all import *"
   ]
  },
  {
   "cell_type": "markdown",
   "id": "05a222b5",
   "metadata": {},
   "source": [
    "## Collect Images"
   ]
  },
  {
   "cell_type": "markdown",
   "id": "50296a8b",
   "metadata": {},
   "source": [
    "First we download an image of a cat and see how it looks"
   ]
  },
  {
   "cell_type": "code",
   "execution_count": null,
   "id": "9bd8891b",
   "metadata": {},
   "outputs": [],
   "source": [
    "# use duckduckgo_search to grab images\n",
    "def search_images(keyword, max_images=200):\n",
    "    return L(DDGS().images(keyword, max_results=max_images)).itemgot('image')\n",
    "\n",
    "# grab 1 cat pic\n",
    "urls = search_images('cat', max_images=1)\n",
    "dest = 'cat.jpg'\n",
    "download_url(urls[0], dest, show_progress=False)\n",
    "cat_img = Image.open(dest)\n",
    "cat_img.to_thumb(256,256)"
   ]
  },
  {
   "cell_type": "markdown",
   "id": "08af6791",
   "metadata": {},
   "source": [
    "Next let's download an image of a keyboard too"
   ]
  },
  {
   "cell_type": "code",
   "execution_count": null,
   "id": "891fe8b8",
   "metadata": {},
   "outputs": [],
   "source": [
    "# grab 1 keyboard pic\n",
    "download_url(search_images('keyboard', max_images=1)[0], 'keyboard.jpg', show_progress=False)\n",
    "key_img = Image.open('keyboard.jpg').to_thumb(256,256)\n",
    "key_img.to_thumb(256,256)"
   ]
  },
  {
   "cell_type": "markdown",
   "id": "a60e126e",
   "metadata": {},
   "source": [
    "Now let's download a bunch more pictures of cats and keyboards. These will be saved to their own seperate folders in this directory. This might take a sec..."
   ]
  },
  {
   "cell_type": "code",
   "execution_count": null,
   "id": "e83f4693",
   "metadata": {},
   "outputs": [],
   "source": [
    "searches = 'cat','keyboard'\n",
    "path = Path('cat_or_keyboard')\n",
    "\n",
    "# download\n",
    "for i in searches:\n",
    "    dest = (path/i)\n",
    "    dest.mkdir(exist_ok=True, parents=True)\n",
    "    download_images(dest, urls=search_images(f'{i} photo'))\n",
    "    time.sleep(5)\n",
    "    resize_images(path/i, max_size=400, dest=path/i)"
   ]
  },
  {
   "cell_type": "markdown",
   "id": "0eda73c2",
   "metadata": {},
   "source": [
    "## Train the model"
   ]
  },
  {
   "cell_type": "markdown",
   "id": "2680378c",
   "metadata": {},
   "source": [
    "Check if all the images downloaded properly. Then we get rid of any bad downloads so they don't mess with our model training"
   ]
  },
  {
   "cell_type": "code",
   "execution_count": null,
   "id": "dfec7789",
   "metadata": {},
   "outputs": [],
   "source": [
    "failed = verify_images(get_image_files(path))\n",
    "failed.map(Path.unlink)\n",
    "len(failed)"
   ]
  },
  {
   "cell_type": "markdown",
   "id": "bd48ce48",
   "metadata": {},
   "source": [
    "Now to train the model we use DataLoaders. This will use a training set and a validation set. \n",
    "\n",
    "Remember the validation set is never used during training. It is only used for eval after each epoch."
   ]
  },
  {
   "cell_type": "code",
   "execution_count": null,
   "id": "6a69b616",
   "metadata": {},
   "outputs": [],
   "source": [
    "dls = DataBlock(\n",
    "    blocks = (ImageBlock, CategoryBlock), \n",
    "    get_items = get_image_files, \n",
    "    splitter = RandomSplitter(valid_pct=0.2, seed=42),\n",
    "    get_y = parent_label,\n",
    "    item_tfms = [Resize(192, method='squish')]\n",
    ").dataloaders(path, bs=32)\n",
    "\n",
    "# peek at some images\n",
    "dls.show_batch(max_n=6)"
   ]
  },
  {
   "cell_type": "markdown",
   "id": "192d9d99",
   "metadata": {},
   "source": [
    "### DataBlock cheat code\n",
    "\n",
    "`blocks = (ImageBlock, CategoryBlock),`\n",
    "\n",
    "The model input will be images and we want categories for our output (\"cat\" and \"keyboard\")\n",
    "\n",
    "`get_items = get_image_files,`\n",
    "\n",
    "This will get all of the image files in whatever we set as `path`.\n",
    "\n",
    "`splitter = RandomSplitter(valid_pct=0.2, seed=42),`\n",
    "\n",
    "Now we split 20% of our data into the validation set.\n",
    "\n",
    "`get_y = parent_label,`\n",
    "\n",
    "Set the name of the parent of each file (\"cat\" or \"keyboard\")\n",
    "\n",
    "`item_tfms=[Resize(192, method='squish')]`\n",
    "\n",
    "Squish each image down to 192 x 192 px.\n"
   ]
  },
  {
   "cell_type": "markdown",
   "id": "28b11dd8",
   "metadata": {},
   "source": [
    "**And now we actually train...**"
   ]
  },
  {
   "cell_type": "code",
   "execution_count": null,
   "id": "b91699b8",
   "metadata": {},
   "outputs": [],
   "source": [
    "learn = vision_learner(dls, resnet18, metrics=error_rate)\n",
    "\n",
    "# train up to 20 epochs. stop early if no longer improving\n",
    "learn.fine_tune(\n",
    "    20, \n",
    "    cbs=EarlyStoppingCallback(monitor='valid_loss', patience=3)  # wait at least 3 epochs\n",
    ")"
   ]
  },
  {
   "cell_type": "markdown",
   "id": "2b75dab3",
   "metadata": {},
   "source": [
    "## Lets try it out\n",
    "\n",
    "Now we can use our model to check if that cat we downloaded earlier is actually a cat..."
   ]
  },
  {
   "cell_type": "code",
   "execution_count": null,
   "id": "1fedb61c",
   "metadata": {},
   "outputs": [],
   "source": [
    "# predict if cat or keyboard with a probability\n",
    "guess, _, prob = learn.predict(PILImage.create('cat.jpg'))\n",
    "print(f\"This is a: {guess}\")\n",
    "print(f\"with probability: {prob[0]:.6f}\")\n",
    "\n",
    "cat_img.to_thumb(256,256)   # show starting cat"
   ]
  },
  {
   "cell_type": "markdown",
   "id": "51a25dd3",
   "metadata": {},
   "source": [
    "Or a keyboard..."
   ]
  },
  {
   "cell_type": "code",
   "execution_count": null,
   "id": "4099127a",
   "metadata": {},
   "outputs": [],
   "source": [
    "# predict if cat or keyboard with a probability\n",
    "guess, _, prob = learn.predict(PILImage.create('keyboard.jpg'))\n",
    "print(f\"This is a: {guess}\")\n",
    "print(f\"with probability: {prob[1]:.6f}\")\n",
    "\n",
    "key_img.to_thumb(256,256)   # show starting keboard"
   ]
  },
  {
   "cell_type": "markdown",
   "id": "6ca859c0",
   "metadata": {},
   "source": [
    "Or run this cell to try an image saved at `test.jpg`"
   ]
  },
  {
   "cell_type": "code",
   "execution_count": null,
   "id": "eab69d04",
   "metadata": {},
   "outputs": [],
   "source": [
    "test_file = 'test.jpg'\n",
    "guess, _, prob = learn.predict(PILImage.create(test_file))\n",
    "print(f\"This is a: {guess}\")\n",
    "print(f\"with probability: {max(prob):.6f}\")\n",
    "\n",
    "# show image\n",
    "test_img = Image.open(test_file)\n",
    "test_img.to_thumb(256,256)"
   ]
  },
  {
   "cell_type": "markdown",
   "id": "fb9fede6",
   "metadata": {},
   "source": [
    "### END"
   ]
  }
 ],
 "metadata": {
  "kernelspec": {
   "display_name": ".venv",
   "language": "python",
   "name": "python3"
  },
  "language_info": {
   "codemirror_mode": {
    "name": "ipython",
    "version": 3
   },
   "file_extension": ".py",
   "mimetype": "text/x-python",
   "name": "python",
   "nbconvert_exporter": "python",
   "pygments_lexer": "ipython3",
   "version": "3.12.3"
  }
 },
 "nbformat": 4,
 "nbformat_minor": 5
}
