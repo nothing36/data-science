{
 "cells": [
  {
   "cell_type": "markdown",
   "metadata": {},
   "source": [
    "# Fairness Analysis of Credit Risk Prediction\n",
    "\n",
    "**Author**: Paul Belland\n",
    "\n",
    "This notebook explores fairness metrics in machine learning classification using the German Credit dataset. The analysis includes:\n",
    "- Exploratory data analysis of sensitive features\n",
    "- Logistic regression model development\n",
    "- Comprehensive fairness metrics evaluation\n",
    "- Analysis of algorithmic bias across different demographic groups"
   ]
  },
  {
   "cell_type": "code",
   "execution_count": 9,
   "metadata": {},
   "outputs": [],
   "source": [
    "# Import necessary libraries\n",
    "import numpy as np\n",
    "from numpy.random import default_rng\n",
    "import pandas as pd\n",
    "from scipy.optimize import minimize\n",
    "import statsmodels.api as sm\n",
    "import matplotlib\n",
    "%matplotlib inline\n",
    "import matplotlib.pyplot as plt\n",
    "plt.style.use('fivethirtyeight')\n",
    "import seaborn as sns\n",
    "import warnings\n",
    "warnings.simplefilter('ignore', FutureWarning)\n",
    "\n",
    "# Set random seed for reproducibility\n",
    "rng_seed = 42\n",
    "rng = default_rng(rng_seed)\n",
    "rngstate = np.random.RandomState(rng_seed)"
   ]
  },
  {
   "cell_type": "markdown",
   "metadata": {},
   "source": [
    "## Data Loading and Initial Exploration"
   ]
  },
  {
   "cell_type": "code",
   "execution_count": 10,
   "metadata": {},
   "outputs": [
    {
     "name": "stdout",
     "output_type": "stream",
     "text": [
      "Shape:  (1000, 21)\n"
     ]
    },
    {
     "data": {
      "text/html": [
       "<div>\n",
       "<style scoped>\n",
       "    .dataframe tbody tr th:only-of-type {\n",
       "        vertical-align: middle;\n",
       "    }\n",
       "\n",
       "    .dataframe tbody tr th {\n",
       "        vertical-align: top;\n",
       "    }\n",
       "\n",
       "    .dataframe thead th {\n",
       "        text-align: right;\n",
       "    }\n",
       "</style>\n",
       "<table border=\"1\" class=\"dataframe\">\n",
       "  <thead>\n",
       "    <tr style=\"text-align: right;\">\n",
       "      <th></th>\n",
       "      <th>Creditability</th>\n",
       "      <th>Account Balance</th>\n",
       "      <th>Duration of Credit (month)</th>\n",
       "      <th>Payment Status of Previous Credit</th>\n",
       "      <th>Purpose</th>\n",
       "      <th>Credit Amount</th>\n",
       "      <th>Value Savings/Stocks</th>\n",
       "      <th>Length of current employment</th>\n",
       "      <th>Instalment per cent</th>\n",
       "      <th>Sex &amp; Marital Status</th>\n",
       "      <th>...</th>\n",
       "      <th>Duration in Current address</th>\n",
       "      <th>Most valuable available asset</th>\n",
       "      <th>Age (years)</th>\n",
       "      <th>Concurrent Credits</th>\n",
       "      <th>Type of apartment</th>\n",
       "      <th>No of Credits at this Bank</th>\n",
       "      <th>Occupation</th>\n",
       "      <th>No of dependents</th>\n",
       "      <th>Telephone</th>\n",
       "      <th>Foreign Worker</th>\n",
       "    </tr>\n",
       "  </thead>\n",
       "  <tbody>\n",
       "    <tr>\n",
       "      <th>0</th>\n",
       "      <td>1</td>\n",
       "      <td>1</td>\n",
       "      <td>18</td>\n",
       "      <td>4</td>\n",
       "      <td>2</td>\n",
       "      <td>1049</td>\n",
       "      <td>1</td>\n",
       "      <td>2</td>\n",
       "      <td>4</td>\n",
       "      <td>2</td>\n",
       "      <td>...</td>\n",
       "      <td>4</td>\n",
       "      <td>2</td>\n",
       "      <td>21</td>\n",
       "      <td>3</td>\n",
       "      <td>1</td>\n",
       "      <td>1</td>\n",
       "      <td>3</td>\n",
       "      <td>1</td>\n",
       "      <td>1</td>\n",
       "      <td>1</td>\n",
       "    </tr>\n",
       "    <tr>\n",
       "      <th>1</th>\n",
       "      <td>1</td>\n",
       "      <td>1</td>\n",
       "      <td>9</td>\n",
       "      <td>4</td>\n",
       "      <td>0</td>\n",
       "      <td>2799</td>\n",
       "      <td>1</td>\n",
       "      <td>3</td>\n",
       "      <td>2</td>\n",
       "      <td>3</td>\n",
       "      <td>...</td>\n",
       "      <td>2</td>\n",
       "      <td>1</td>\n",
       "      <td>36</td>\n",
       "      <td>3</td>\n",
       "      <td>1</td>\n",
       "      <td>2</td>\n",
       "      <td>3</td>\n",
       "      <td>2</td>\n",
       "      <td>1</td>\n",
       "      <td>1</td>\n",
       "    </tr>\n",
       "    <tr>\n",
       "      <th>2</th>\n",
       "      <td>1</td>\n",
       "      <td>2</td>\n",
       "      <td>12</td>\n",
       "      <td>2</td>\n",
       "      <td>9</td>\n",
       "      <td>841</td>\n",
       "      <td>2</td>\n",
       "      <td>4</td>\n",
       "      <td>2</td>\n",
       "      <td>2</td>\n",
       "      <td>...</td>\n",
       "      <td>4</td>\n",
       "      <td>1</td>\n",
       "      <td>23</td>\n",
       "      <td>3</td>\n",
       "      <td>1</td>\n",
       "      <td>1</td>\n",
       "      <td>2</td>\n",
       "      <td>1</td>\n",
       "      <td>1</td>\n",
       "      <td>1</td>\n",
       "    </tr>\n",
       "    <tr>\n",
       "      <th>3</th>\n",
       "      <td>1</td>\n",
       "      <td>1</td>\n",
       "      <td>12</td>\n",
       "      <td>4</td>\n",
       "      <td>0</td>\n",
       "      <td>2122</td>\n",
       "      <td>1</td>\n",
       "      <td>3</td>\n",
       "      <td>3</td>\n",
       "      <td>3</td>\n",
       "      <td>...</td>\n",
       "      <td>2</td>\n",
       "      <td>1</td>\n",
       "      <td>39</td>\n",
       "      <td>3</td>\n",
       "      <td>1</td>\n",
       "      <td>2</td>\n",
       "      <td>2</td>\n",
       "      <td>2</td>\n",
       "      <td>1</td>\n",
       "      <td>2</td>\n",
       "    </tr>\n",
       "    <tr>\n",
       "      <th>4</th>\n",
       "      <td>1</td>\n",
       "      <td>1</td>\n",
       "      <td>12</td>\n",
       "      <td>4</td>\n",
       "      <td>0</td>\n",
       "      <td>2171</td>\n",
       "      <td>1</td>\n",
       "      <td>3</td>\n",
       "      <td>4</td>\n",
       "      <td>3</td>\n",
       "      <td>...</td>\n",
       "      <td>4</td>\n",
       "      <td>2</td>\n",
       "      <td>38</td>\n",
       "      <td>1</td>\n",
       "      <td>2</td>\n",
       "      <td>2</td>\n",
       "      <td>2</td>\n",
       "      <td>1</td>\n",
       "      <td>1</td>\n",
       "      <td>2</td>\n",
       "    </tr>\n",
       "  </tbody>\n",
       "</table>\n",
       "<p>5 rows × 21 columns</p>\n",
       "</div>"
      ],
      "text/plain": [
       "   Creditability  Account Balance  Duration of Credit (month)  \\\n",
       "0              1                1                          18   \n",
       "1              1                1                           9   \n",
       "2              1                2                          12   \n",
       "3              1                1                          12   \n",
       "4              1                1                          12   \n",
       "\n",
       "   Payment Status of Previous Credit  Purpose  Credit Amount  \\\n",
       "0                                  4        2           1049   \n",
       "1                                  4        0           2799   \n",
       "2                                  2        9            841   \n",
       "3                                  4        0           2122   \n",
       "4                                  4        0           2171   \n",
       "\n",
       "   Value Savings/Stocks  Length of current employment  Instalment per cent  \\\n",
       "0                     1                             2                    4   \n",
       "1                     1                             3                    2   \n",
       "2                     2                             4                    2   \n",
       "3                     1                             3                    3   \n",
       "4                     1                             3                    4   \n",
       "\n",
       "   Sex & Marital Status  ...  Duration in Current address  \\\n",
       "0                     2  ...                            4   \n",
       "1                     3  ...                            2   \n",
       "2                     2  ...                            4   \n",
       "3                     3  ...                            2   \n",
       "4                     3  ...                            4   \n",
       "\n",
       "   Most valuable available asset  Age (years)  Concurrent Credits  \\\n",
       "0                              2           21                   3   \n",
       "1                              1           36                   3   \n",
       "2                              1           23                   3   \n",
       "3                              1           39                   3   \n",
       "4                              2           38                   1   \n",
       "\n",
       "   Type of apartment  No of Credits at this Bank  Occupation  \\\n",
       "0                  1                           1           3   \n",
       "1                  1                           2           3   \n",
       "2                  1                           1           2   \n",
       "3                  1                           2           2   \n",
       "4                  2                           2           2   \n",
       "\n",
       "   No of dependents  Telephone  Foreign Worker  \n",
       "0                 1          1               1  \n",
       "1                 2          1               1  \n",
       "2                 1          1               1  \n",
       "3                 2          1               2  \n",
       "4                 1          1               2  \n",
       "\n",
       "[5 rows x 21 columns]"
      ]
     },
     "execution_count": 10,
     "metadata": {},
     "output_type": "execute_result"
    }
   ],
   "source": [
    "# Load the German Credit dataset\n",
    "df_init = pd.read_csv('german_credit.csv')\n",
    "\n",
    "print(\"Shape: \", df_init.shape)\n",
    "df_init.head(5)"
   ]
  },
  {
   "cell_type": "markdown",
   "metadata": {},
   "source": [
    "## Dataset Overview\n",
    "\n",
    "Our data relates to German creditors and contains features that determine their creditability. Key aspects include:\n",
    "\n",
    "- **Sensitive variables**: Sex & Marital Status, Age (years), and Foreign Worker status\n",
    "- **Target variable**: Creditability (binary: 1 for good credit, 0 for bad credit)\n",
    "- **Features**: Account Balance, Credit Amount, Payment Status, Purpose, Savings/Stocks, Employment, etc.\n",
    "\n",
    "The dataset is a stratified sample of 1000 credits from 1973-1975, with 700 good credits and an oversample of 300 bad credits to ensure proper analysis capabilities."
   ]
  },
  {
   "cell_type": "markdown",
   "metadata": {},
   "source": [
    "## Data Preprocessing"
   ]
  },
  {
   "cell_type": "code",
   "execution_count": 11,
   "metadata": {},
   "outputs": [],
   "source": [
    "# Select relevant features and clean data\n",
    "cols_retain = ['Creditability','Account Balance','Duration of Credit (month)',\n",
    "               'Payment Status of Previous Credit','Purpose','Credit Amount',\n",
    "               'Value Savings/Stocks', 'Length of current employment','Age (years)',\n",
    "               'No of Credits at this Bank','Occupation','Duration in Current address',\n",
    "               'Sex & Marital Status','Foreign Worker','Concurrent Credits']\n",
    "\n",
    "df_processed = df_init[cols_retain]\n",
    "df_processed = df_processed.dropna()\n",
    "df_processed['Creditability'] = pd.to_numeric(df_processed['Creditability'])"
   ]
  },
  {
   "cell_type": "markdown",
   "metadata": {},
   "source": [
    "## Exploratory Analysis of Sensitive Features\n",
    "\n",
    "### Analysis 1: Creditability by Marital Status (Male)"
   ]
  },
  {
   "cell_type": "code",
   "execution_count": 12,
   "metadata": {},
   "outputs": [
    {
     "data": {
      "image/png": "[encoded data removed]",
      "text/plain": [
       "<Figure size 1000x600 with 1 Axes>"
      ]
     },
     "metadata": {},
     "output_type": "display_data"
    }
   ],
   "source": [
    "# Create subgroups for married vs unmarried males\n",
    "df_1 = df_processed[df_processed['Sex & Marital Status'].isin([3])]  # married male\n",
    "df_2 = df_processed[df_processed['Sex & Marital Status'].isin([2])]  # unmarried male\n",
    "\n",
    "# Prepare data for visualization\n",
    "df_1_cred = df_1['Creditability']\n",
    "df_2_cred = df_2['Creditability']\n",
    "bins = np.array([-0.5, 0.5, 1.5])\n",
    "\n",
    "# Create proportional histogram\n",
    "plt.figure(figsize=(10, 6))\n",
    "plt.hist(df_1_cred, bins=bins, density=True, alpha=0.5, color='blue', label='Married Male', rwidth=0.9)\n",
    "plt.hist(df_2_cred, bins=bins, density=True, alpha=0.5, color='red', label='Unmarried Male', rwidth=0.9)\n",
    "\n",
    "plt.xlabel('Creditability')\n",
    "plt.ylabel('Proportion')\n",
    "plt.title('Proportional Distribution of Creditability by Male Marriage Subgroup')\n",
    "plt.xticks([0, 1])\n",
    "plt.legend()\n",
    "plt.show()"
   ]
  },
  {
   "cell_type": "markdown",
   "metadata": {},
   "source": [
    "The histogram shows that married men have approximately 72% creditability rate compared to 64% for unmarried men, suggesting marital status may influence credit approval likelihood."
   ]
  },
  {
   "cell_type": "markdown",
   "metadata": {},
   "source": [
    "### Analysis 2: Creditability by Age Group"
   ]
  },
  {
   "cell_type": "code",
   "execution_count": 13,
   "metadata": {},
   "outputs": [
    {
     "data": {
      "image/png": "[encoded data removed]",
      "text/plain": [
       "<Figure size 1000x600 with 1 Axes>"
      ]
     },
     "metadata": {},
     "output_type": "display_data"
    }
   ],
   "source": [
    "# Create age-based subgroups\n",
    "df_a = df_processed[df_processed['Age (years)'] < 35]\n",
    "df_b = df_processed[df_processed['Age (years)'] >= 35]\n",
    "\n",
    "# Prepare data for visualization\n",
    "df_a_cred = df_a['Creditability']\n",
    "df_b_cred = df_b['Creditability']\n",
    "\n",
    "# Create proportional histogram\n",
    "plt.figure(figsize=(10, 6))\n",
    "plt.hist(df_a_cred, bins=bins, density=True, alpha=0.5, color='blue', label='< 35 Years Old', rwidth=0.9)\n",
    "plt.hist(df_b_cred, bins=bins, density=True, alpha=0.5, color='red', label='>= 35 Years Old', rwidth=0.9)\n",
    "\n",
    "plt.xlabel('Creditability')\n",
    "plt.ylabel('Proportion')\n",
    "plt.title('Proportional Distribution of Creditability by Age Subgroup')\n",
    "plt.xticks([0, 1])\n",
    "plt.legend()\n",
    "plt.show()"
   ]
  },
  {
   "cell_type": "markdown",
   "metadata": {},
   "source": [
    "The age analysis reveals that individuals 35 or older have a 77% creditability rate compared to 65% for younger individuals, indicating age-based disparities in credit assessment."
   ]
  },
  {
   "cell_type": "markdown",
   "metadata": {},
   "source": [
    "## Logistic Regression Model Development"
   ]
  },
  {
   "cell_type": "code",
   "execution_count": 14,
   "metadata": {},
   "outputs": [],
   "source": [
    "# Prepare data for modeling\n",
    "Y = df_processed[['Creditability']]\n",
    "X = df_processed.drop(columns=['Creditability'])\n",
    "\n",
    "# Select features for the model\n",
    "cols_retain = ['Account Balance','Credit Amount','Payment Status of Previous Credit',\n",
    "               'Value Savings/Stocks','Length of current employment', 'Sex & Marital Status',\n",
    "               'No of Credits at this Bank','Age (years)','Occupation']\n",
    "X = X[cols_retain]"
   ]
  },
  {
   "cell_type": "code",
   "execution_count": 15,
   "metadata": {},
   "outputs": [],
   "source": [
    "# Set up preprocessing pipeline\n",
    "from sklearn.compose import make_column_selector as selector\n",
    "from sklearn.preprocessing import OneHotEncoder, StandardScaler\n",
    "from sklearn.compose import ColumnTransformer\n",
    "from sklearn.pipeline import Pipeline\n",
    "from sklearn.linear_model import LogisticRegression\n",
    "from sklearn.model_selection import train_test_split\n",
    "\n",
    "# Define categorical and numerical features\n",
    "categorical_features = ['Account Balance', 'Sex & Marital Status', \n",
    "                       'Payment Status of Previous Credit', 'Value Savings/Stocks',\n",
    "                       'Length of current employment', 'Occupation']\n",
    "numerical_features = ['Credit Amount', 'No of Credits at this Bank','Age (years)']\n",
    "\n",
    "# Create preprocessing pipeline\n",
    "preprocessor = ColumnTransformer(\n",
    "    transformers=[\n",
    "        ('num', StandardScaler(), numerical_features),\n",
    "        ('cat', OneHotEncoder(), categorical_features)\n",
    "    ]\n",
    ")\n",
    "\n",
    "# Create model pipeline\n",
    "model = Pipeline(steps=[\n",
    "    ('preprocessor', preprocessor),\n",
    "    ('classifier', LogisticRegression(max_iter=500))\n",
    "])"
   ]
  },
  {
   "cell_type": "code",
   "execution_count": 16,
   "metadata": {},
   "outputs": [
    {
     "name": "stdout",
     "output_type": "stream",
     "text": [
      "              precision    recall  f1-score   support\n",
      "\n",
      "           0       0.60      0.40      0.48        75\n",
      "           1       0.78      0.89      0.83       175\n",
      "\n",
      "    accuracy                           0.74       250\n",
      "   macro avg       0.69      0.64      0.65       250\n",
      "weighted avg       0.72      0.74      0.72       250\n",
      "\n"
     ]
    },
    {
     "name": "stderr",
     "output_type": "stream",
     "text": [
      "/home/pbwz/repos/data-science/.venv/lib/python3.12/site-packages/sklearn/utils/validation.py:1408: DataConversionWarning: A column-vector y was passed when a 1d array was expected. Please change the shape of y to (n_samples, ), for example using ravel().\n",
      "  y = column_or_1d(y, warn=True)\n"
     ]
    }
   ],
   "source": [
    "# Split data and train model\n",
    "X_train, X_test, Y_train, Y_test = train_test_split(X, Y, test_size=0.25, random_state=42)\n",
    "model.fit(X_train, Y_train)\n",
    "\n",
    "# Generate predictions\n",
    "Y_pred = model.predict(X_test)\n",
    "\n",
    "# Display classification report\n",
    "from sklearn.metrics import classification_report\n",
    "print(classification_report(Y_test, Y_pred))"
   ]
  },
  {
   "cell_type": "markdown",
   "metadata": {},
   "source": [
    "## Fairness Metrics Implementation\n",
    "\n",
    "I'll implement functions to calculate key fairness metrics: True Positive Rate (TPR), False Positive Rate (FPR), and Positive Label Rate."
   ]
  },
  {
   "cell_type": "code",
   "execution_count": 17,
   "metadata": {},
   "outputs": [],
   "source": [
    "def tpr_metric(y_true, y_pred, x, s_feature, s_value):\n",
    "    \"\"\"Calculate True Positive Rate for a specific subgroup\"\"\"\n",
    "    tp = 0\n",
    "    ap = 0\n",
    "    \n",
    "    for i in range(len(x)):\n",
    "        if x[s_feature].iloc[i] == s_value:\n",
    "            if y_true.iloc[i] == 1:\n",
    "                ap += 1\n",
    "                if y_pred.iloc[i] == 1:\n",
    "                    tp += 1\n",
    "                    \n",
    "    try:\n",
    "        tpr = tp / ap\n",
    "    except ZeroDivisionError:\n",
    "        tpr = 0\n",
    "        \n",
    "    return tpr\n",
    "\n",
    "def fpr_metric(y_true, y_pred, x, s_feature, s_value):\n",
    "    \"\"\"Calculate False Positive Rate for a specific subgroup\"\"\"\n",
    "    fp = 0\n",
    "    an = 0\n",
    "\n",
    "    for i in range(len(x)):\n",
    "        if x[s_feature].iloc[i] == s_value:\n",
    "            if y_true.iloc[i] == 0:\n",
    "                an += 1\n",
    "                if y_pred.iloc[i] == 1:\n",
    "                    fp += 1\n",
    "\n",
    "    try:\n",
    "        fpr = fp / an\n",
    "    except ZeroDivisionError:\n",
    "        fpr = 0\n",
    "\n",
    "    return fpr\n",
    "\n",
    "def poslabel_metric(y_pred, x, s_feature, s_value):\n",
    "    \"\"\"Calculate Positive Label Rate for a specific subgroup\"\"\"\n",
    "    pl = 0\n",
    "    tl = 0\n",
    "    \n",
    "    for i in range(len(x)):\n",
    "        if x[s_feature].iloc[i] == s_value:\n",
    "            tl += 1\n",
    "            if y_pred.iloc[i] == 1:\n",
    "                pl += 1\n",
    "                \n",
    "    try:\n",
    "        poslabel = pl / tl\n",
    "    except ZeroDivisionError:\n",
    "        poslabel = 0\n",
    "                \n",
    "    return poslabel"
   ]
  },
  {
   "cell_type": "markdown",
   "metadata": {},
   "source": [
    "## Fairness Analysis Results\n",
    "\n",
    "### 1. Marital Status (Male) Analysis"
   ]
  },
  {
   "cell_type": "code",
   "execution_count": 18,
   "metadata": {},
   "outputs": [
    {
     "name": "stdout",
     "output_type": "stream",
     "text": [
      "Marital Status Fairness Metrics:\n",
      "Demographic Parity Difference: 0.132\n",
      "Equal Opportunity Difference: 0.114\n",
      "Equalized Odds (TPR, FPR): [0.114, 0.140]\n"
     ]
    }
   ],
   "source": [
    "# Prepare data for fairness analysis\n",
    "Y_pred = pd.DataFrame(Y_pred, Y_test.index)\n",
    "sensitive_features = ['Age (years)', 'Occupation', 'Sex & Marital Status']\n",
    "A = X_test[sensitive_features]\n",
    "\n",
    "# Create binary marital status feature\n",
    "X_test[\"Married Men\"] = np.where(X_test[\"Sex & Marital Status\"] == 3, 1, \n",
    "                                 np.where(X_test[\"Sex & Marital Status\"] == 2, 0, np.nan))\n",
    "Y_test = Y_test.squeeze()\n",
    "Y_pred = Y_pred.squeeze()\n",
    "\n",
    "# Calculate fairness metrics\n",
    "r_married = poslabel_metric(Y_pred, X_test, \"Married Men\", 1)\n",
    "r_unmarried = poslabel_metric(Y_pred, X_test, \"Married Men\", 0)\n",
    "demographic_parity = r_married - r_unmarried\n",
    "\n",
    "tpr_married = tpr_metric(Y_test, Y_pred, X_test, \"Married Men\", 1)\n",
    "tpr_unmarried = tpr_metric(Y_test, Y_pred, X_test, \"Married Men\", 0)\n",
    "eq_opp_diff = tpr_married - tpr_unmarried\n",
    "\n",
    "fpr_married = fpr_metric(Y_test, Y_pred, X_test, \"Married Men\", 1)\n",
    "fpr_unmarried = fpr_metric(Y_test, Y_pred, X_test, \"Married Men\", 0)\n",
    "fpr_diff = fpr_married - fpr_unmarried\n",
    "\n",
    "print(\"Marital Status Fairness Metrics:\")\n",
    "print(f\"Demographic Parity Difference: {demographic_parity:.3f}\")\n",
    "print(f\"Equal Opportunity Difference: {eq_opp_diff:.3f}\")\n",
    "print(f\"Equalized Odds (TPR, FPR): [{eq_opp_diff:.3f}, {fpr_diff:.3f}]\")"
   ]
  },
  {
   "cell_type": "markdown",
   "metadata": {},
   "source": [
    "**Analysis**: The model shows bias favoring married males:\n",
    "- 13% higher likelihood of positive predictions\n",
    "- 11% higher true positive rate\n",
    "- 14% higher false positive rate\n",
    "\n",
    "This suggests the model may unfairly advantage married individuals in credit decisions."
   ]
  },
  {
   "cell_type": "markdown",
   "metadata": {},
   "source": [
    "### 2. Age Group Analysis (35+ vs <35)"
   ]
  },
  {
   "cell_type": "code",
   "execution_count": 19,
   "metadata": {},
   "outputs": [
    {
     "name": "stdout",
     "output_type": "stream",
     "text": [
      "Age Group (35+) Fairness Metrics:\n",
      "Demographic Parity Difference: 0.192\n",
      "Equal Opportunity Difference: 0.121\n",
      "Equalized Odds (TPR, FPR): [0.121, 0.278]\n"
     ]
    }
   ],
   "source": [
    "# Create age binary feature\n",
    "X_test['Age Over 35'] = np.where(X_test['Age (years)'] >= 35, 1, 0)\n",
    "\n",
    "# Calculate fairness metrics\n",
    "r_over35 = poslabel_metric(Y_pred, X_test, 'Age Over 35', 1)\n",
    "r_under35 = poslabel_metric(Y_pred, X_test, 'Age Over 35', 0)\n",
    "demographic_parity = r_over35 - r_under35\n",
    "\n",
    "tpr_over35 = tpr_metric(Y_test, Y_pred, X_test, 'Age Over 35', 1)\n",
    "tpr_under35 = tpr_metric(Y_test, Y_pred, X_test, 'Age Over 35', 0)\n",
    "eq_opp_diff = tpr_over35 - tpr_under35\n",
    "\n",
    "fpr_over35 = fpr_metric(Y_test, Y_pred, X_test, 'Age Over 35', 1)\n",
    "fpr_under35 = fpr_metric(Y_test, Y_pred, X_test, 'Age Over 35', 0)\n",
    "fpr_diff = fpr_over35 - fpr_under35\n",
    "\n",
    "print(\"Age Group (35+) Fairness Metrics:\")\n",
    "print(f\"Demographic Parity Difference: {demographic_parity:.3f}\")\n",
    "print(f\"Equal Opportunity Difference: {eq_opp_diff:.3f}\")\n",
    "print(f\"Equalized Odds (TPR, FPR): [{eq_opp_diff:.3f}, {fpr_diff:.3f}]\")"
   ]
  },
  {
   "cell_type": "markdown",
   "metadata": {},
   "source": [
    "**Analysis**: Significant age-based disparities:\n",
    "- 19% higher positive prediction rate for 35+ individuals\n",
    "- 12% higher true positive rate\n",
    "- 28% higher false positive rate\n",
    "\n",
    "Younger individuals face systematic disadvantage in credit approval."
   ]
  },
  {
   "cell_type": "markdown",
   "metadata": {},
   "source": [
    "### 3. Senior Age Analysis (60+ vs <60)"
   ]
  },
  {
   "cell_type": "code",
   "execution_count": 20,
   "metadata": {},
   "outputs": [
    {
     "name": "stdout",
     "output_type": "stream",
     "text": [
      "Senior Age (60+) Fairness Metrics:\n",
      "Demographic Parity Difference: 0.147\n",
      "Equal Opportunity Difference: 0.123\n",
      "Equalized Odds (TPR, FPR): [0.123, 0.158]\n"
     ]
    }
   ],
   "source": [
    "# Create senior age binary feature\n",
    "X_test['Age Over 60'] = np.where(X_test['Age (years)'] >= 60, 1, 0)\n",
    "\n",
    "# Calculate fairness metrics\n",
    "r_over60 = poslabel_metric(Y_pred, X_test, 'Age Over 60', 1)\n",
    "r_under60 = poslabel_metric(Y_pred, X_test, 'Age Over 60', 0)\n",
    "demographic_parity = r_over60 - r_under60\n",
    "\n",
    "tpr_over60 = tpr_metric(Y_test, Y_pred, X_test, 'Age Over 60', 1)\n",
    "tpr_under60 = tpr_metric(Y_test, Y_pred, X_test, 'Age Over 60', 0)\n",
    "eq_opp_diff = tpr_over60 - tpr_under60\n",
    "\n",
    "fpr_over60 = fpr_metric(Y_test, Y_pred, X_test, 'Age Over 60', 1)\n",
    "fpr_under60 = fpr_metric(Y_test, Y_pred, X_test, 'Age Over 60', 0)\n",
    "fpr_diff = fpr_over60 - fpr_under60\n",
    "\n",
    "print(\"Senior Age (60+) Fairness Metrics:\")\n",
    "print(f\"Demographic Parity Difference: {demographic_parity:.3f}\")\n",
    "print(f\"Equal Opportunity Difference: {eq_opp_diff:.3f}\")\n",
    "print(f\"Equalized Odds (TPR, FPR): [{eq_opp_diff:.3f}, {fpr_diff:.3f}]\")"
   ]
  },
  {
   "cell_type": "markdown",
   "metadata": {},
   "source": [
    "**Analysis**: Even stronger bias for senior individuals:\n",
    "- 14.6% higher positive prediction rate\n",
    "- 12% higher true positive rate  \n",
    "- 16% higher false positive rate\n",
    "\n",
    "This indicates potential over-approval of older individuals who may not be creditworthy."
   ]
  },
  {
   "cell_type": "markdown",
   "metadata": {},
   "source": [
    "## Model Performance Evaluation"
   ]
  },
  {
   "cell_type": "code",
   "execution_count": 21,
   "metadata": {},
   "outputs": [
    {
     "name": "stdout",
     "output_type": "stream",
     "text": [
      "              precision    recall  f1-score   support\n",
      "\n",
      "           0       0.60      0.40      0.48        75\n",
      "           1       0.78      0.89      0.83       175\n",
      "\n",
      "    accuracy                           0.74       250\n",
      "   macro avg       0.69      0.64      0.65       250\n",
      "weighted avg       0.72      0.74      0.72       250\n",
      "\n"
     ]
    }
   ],
   "source": [
    "# Generate final classification report\n",
    "print(classification_report(Y_test, Y_pred))"
   ]
  },
  {
   "cell_type": "markdown",
   "metadata": {},
   "source": [
    "## Key Findings\n",
    "\n",
    "### Performance Metrics:\n",
    "- **Precision**: 78% for creditworthy vs 60% for non-creditworthy (18% gap)\n",
    "- **Recall**: 89% for creditworthy vs 40% for non-creditworthy (massive 49% gap)\n",
    "- **F1-Score**: Well-balanced for creditworthy (0.83) but poor for non-creditworthy (0.48)\n",
    "\n",
    "### Fairness Concerns:\n",
    "1. **Systematic bias** favoring married individuals and older demographics\n",
    "2. **High false positive rates** for protected groups may lead to over-approval\n",
    "3. **Imbalanced data** (700 good vs 300 bad credits) likely contributes to performance issues\n",
    "\n",
    "### Recommendations:\n",
    "- Implement fairness-aware machine learning techniques\n",
    "- Consider rebalancing training data or using weighted loss functions\n",
    "- Regular fairness audits across demographic groups\n",
    "- Investigate feature importance to understand bias sources"
   ]
  }
 ],
 "metadata": {
  "kernelspec": {
   "display_name": ".venv",
   "language": "python",
   "name": "python3"
  },
  "language_info": {
   "codemirror_mode": {
    "name": "ipython",
    "version": 3
   },
   "file_extension": ".py",
   "mimetype": "text/x-python",
   "name": "python",
   "nbconvert_exporter": "python",
   "pygments_lexer": "ipython3",
   "version": "3.12.3"
  }
 },
 "nbformat": 4,
 "nbformat_minor": 4
}
